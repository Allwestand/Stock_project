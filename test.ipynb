{
 "cells": [
  {
   "cell_type": "code",
   "execution_count": 6,
   "metadata": {},
   "outputs": [],
   "source": [
    "import pandas_datareader as web\n",
    "import datetime as dt\n",
    "import pandas as pd\n",
    "import yfinance as yf"
   ]
  },
  {
   "cell_type": "code",
   "execution_count": 13,
   "metadata": {},
   "outputs": [],
   "source": [
    "mbk = yf.Ticker('PTT.bk')"
   ]
  },
  {
   "cell_type": "code",
   "execution_count": 14,
   "metadata": {},
   "outputs": [],
   "source": [
    "interval = '1d'\n",
    "start = '2022-1-1'\n",
    "end = '2022-11-23'"
   ]
  },
  {
   "cell_type": "code",
   "execution_count": 15,
   "metadata": {},
   "outputs": [
    {
     "data": {
      "text/html": [
       "<div>\n",
       "<style scoped>\n",
       "    .dataframe tbody tr th:only-of-type {\n",
       "        vertical-align: middle;\n",
       "    }\n",
       "\n",
       "    .dataframe tbody tr th {\n",
       "        vertical-align: top;\n",
       "    }\n",
       "\n",
       "    .dataframe thead th {\n",
       "        text-align: right;\n",
       "    }\n",
       "</style>\n",
       "<table border=\"1\" class=\"dataframe\">\n",
       "  <thead>\n",
       "    <tr style=\"text-align: right;\">\n",
       "      <th></th>\n",
       "      <th>Open</th>\n",
       "      <th>High</th>\n",
       "      <th>Low</th>\n",
       "      <th>Close</th>\n",
       "      <th>Volume</th>\n",
       "      <th>Dividends</th>\n",
       "      <th>Stock Splits</th>\n",
       "    </tr>\n",
       "    <tr>\n",
       "      <th>Date</th>\n",
       "      <th></th>\n",
       "      <th></th>\n",
       "      <th></th>\n",
       "      <th></th>\n",
       "      <th></th>\n",
       "      <th></th>\n",
       "      <th></th>\n",
       "    </tr>\n",
       "  </thead>\n",
       "  <tbody>\n",
       "    <tr>\n",
       "      <th>2022-01-04 00:00:00+07:00</th>\n",
       "      <td>34.492996</td>\n",
       "      <td>34.718440</td>\n",
       "      <td>34.267551</td>\n",
       "      <td>34.267551</td>\n",
       "      <td>59500200</td>\n",
       "      <td>0.0</td>\n",
       "      <td>0.0</td>\n",
       "    </tr>\n",
       "    <tr>\n",
       "      <th>2022-01-05 00:00:00+07:00</th>\n",
       "      <td>34.492997</td>\n",
       "      <td>35.169331</td>\n",
       "      <td>34.267553</td>\n",
       "      <td>35.169331</td>\n",
       "      <td>76590500</td>\n",
       "      <td>0.0</td>\n",
       "      <td>0.0</td>\n",
       "    </tr>\n",
       "    <tr>\n",
       "      <th>2022-01-06 00:00:00+07:00</th>\n",
       "      <td>35.169329</td>\n",
       "      <td>35.169329</td>\n",
       "      <td>34.267551</td>\n",
       "      <td>34.267551</td>\n",
       "      <td>71677600</td>\n",
       "      <td>0.0</td>\n",
       "      <td>0.0</td>\n",
       "    </tr>\n",
       "    <tr>\n",
       "      <th>2022-01-07 00:00:00+07:00</th>\n",
       "      <td>34.718438</td>\n",
       "      <td>34.943882</td>\n",
       "      <td>34.492993</td>\n",
       "      <td>34.943882</td>\n",
       "      <td>59556500</td>\n",
       "      <td>0.0</td>\n",
       "      <td>0.0</td>\n",
       "    </tr>\n",
       "    <tr>\n",
       "      <th>2022-01-10 00:00:00+07:00</th>\n",
       "      <td>34.943878</td>\n",
       "      <td>34.943878</td>\n",
       "      <td>34.267545</td>\n",
       "      <td>34.718433</td>\n",
       "      <td>34789500</td>\n",
       "      <td>0.0</td>\n",
       "      <td>0.0</td>\n",
       "    </tr>\n",
       "    <tr>\n",
       "      <th>...</th>\n",
       "      <td>...</td>\n",
       "      <td>...</td>\n",
       "      <td>...</td>\n",
       "      <td>...</td>\n",
       "      <td>...</td>\n",
       "      <td>...</td>\n",
       "      <td>...</td>\n",
       "    </tr>\n",
       "    <tr>\n",
       "      <th>2022-11-16 00:00:00+07:00</th>\n",
       "      <td>31.960608</td>\n",
       "      <td>32.199120</td>\n",
       "      <td>31.722096</td>\n",
       "      <td>31.960608</td>\n",
       "      <td>56698100</td>\n",
       "      <td>0.0</td>\n",
       "      <td>0.0</td>\n",
       "    </tr>\n",
       "    <tr>\n",
       "      <th>2022-11-17 00:00:00+07:00</th>\n",
       "      <td>31.722099</td>\n",
       "      <td>31.960611</td>\n",
       "      <td>31.483587</td>\n",
       "      <td>31.483587</td>\n",
       "      <td>71697700</td>\n",
       "      <td>0.0</td>\n",
       "      <td>0.0</td>\n",
       "    </tr>\n",
       "    <tr>\n",
       "      <th>2022-11-18 00:00:00+07:00</th>\n",
       "      <td>31.483584</td>\n",
       "      <td>31.960608</td>\n",
       "      <td>31.245072</td>\n",
       "      <td>31.960608</td>\n",
       "      <td>71033500</td>\n",
       "      <td>0.0</td>\n",
       "      <td>0.0</td>\n",
       "    </tr>\n",
       "    <tr>\n",
       "      <th>2022-11-21 00:00:00+07:00</th>\n",
       "      <td>31.722097</td>\n",
       "      <td>31.960609</td>\n",
       "      <td>31.483585</td>\n",
       "      <td>31.722097</td>\n",
       "      <td>39724000</td>\n",
       "      <td>0.0</td>\n",
       "      <td>0.0</td>\n",
       "    </tr>\n",
       "    <tr>\n",
       "      <th>2022-11-22 00:00:00+07:00</th>\n",
       "      <td>31.722097</td>\n",
       "      <td>31.960609</td>\n",
       "      <td>31.483585</td>\n",
       "      <td>31.722097</td>\n",
       "      <td>44381500</td>\n",
       "      <td>0.0</td>\n",
       "      <td>0.0</td>\n",
       "    </tr>\n",
       "  </tbody>\n",
       "</table>\n",
       "<p>215 rows × 7 columns</p>\n",
       "</div>"
      ],
      "text/plain": [
       "                                Open       High        Low      Close  \\\n",
       "Date                                                                    \n",
       "2022-01-04 00:00:00+07:00  34.492996  34.718440  34.267551  34.267551   \n",
       "2022-01-05 00:00:00+07:00  34.492997  35.169331  34.267553  35.169331   \n",
       "2022-01-06 00:00:00+07:00  35.169329  35.169329  34.267551  34.267551   \n",
       "2022-01-07 00:00:00+07:00  34.718438  34.943882  34.492993  34.943882   \n",
       "2022-01-10 00:00:00+07:00  34.943878  34.943878  34.267545  34.718433   \n",
       "...                              ...        ...        ...        ...   \n",
       "2022-11-16 00:00:00+07:00  31.960608  32.199120  31.722096  31.960608   \n",
       "2022-11-17 00:00:00+07:00  31.722099  31.960611  31.483587  31.483587   \n",
       "2022-11-18 00:00:00+07:00  31.483584  31.960608  31.245072  31.960608   \n",
       "2022-11-21 00:00:00+07:00  31.722097  31.960609  31.483585  31.722097   \n",
       "2022-11-22 00:00:00+07:00  31.722097  31.960609  31.483585  31.722097   \n",
       "\n",
       "                             Volume  Dividends  Stock Splits  \n",
       "Date                                                          \n",
       "2022-01-04 00:00:00+07:00  59500200        0.0           0.0  \n",
       "2022-01-05 00:00:00+07:00  76590500        0.0           0.0  \n",
       "2022-01-06 00:00:00+07:00  71677600        0.0           0.0  \n",
       "2022-01-07 00:00:00+07:00  59556500        0.0           0.0  \n",
       "2022-01-10 00:00:00+07:00  34789500        0.0           0.0  \n",
       "...                             ...        ...           ...  \n",
       "2022-11-16 00:00:00+07:00  56698100        0.0           0.0  \n",
       "2022-11-17 00:00:00+07:00  71697700        0.0           0.0  \n",
       "2022-11-18 00:00:00+07:00  71033500        0.0           0.0  \n",
       "2022-11-21 00:00:00+07:00  39724000        0.0           0.0  \n",
       "2022-11-22 00:00:00+07:00  44381500        0.0           0.0  \n",
       "\n",
       "[215 rows x 7 columns]"
      ]
     },
     "execution_count": 15,
     "metadata": {},
     "output_type": "execute_result"
    }
   ],
   "source": [
    "mbk_price_df = mbk.history(interval='1d',start=start,end=end)\n",
    "mbk_price_df"
   ]
  },
  {
   "cell_type": "code",
   "execution_count": 8,
   "metadata": {},
   "outputs": [
    {
     "data": {
      "text/plain": [
       "yfinance.Ticker object <MBK.BK>"
      ]
     },
     "execution_count": 8,
     "metadata": {},
     "output_type": "execute_result"
    }
   ],
   "source": [
    "mbk"
   ]
  },
  {
   "cell_type": "code",
   "execution_count": null,
   "metadata": {},
   "outputs": [],
   "source": []
  },
  {
   "cell_type": "code",
   "execution_count": 5,
   "metadata": {},
   "outputs": [
    {
     "ename": "TypeError",
     "evalue": "string indices must be integers, not 'str'",
     "output_type": "error",
     "traceback": [
      "\u001b[0;31m---------------------------------------------------------------------------\u001b[0m",
      "\u001b[0;31mTypeError\u001b[0m                                 Traceback (most recent call last)",
      "\u001b[1;32m/Users/Project/Stock_project/test.ipynb Cell 2\u001b[0m line \u001b[0;36m5\n\u001b[1;32m      <a href='vscode-notebook-cell:/Users/Project/Stock_project/test.ipynb#W1sZmlsZQ%3D%3D?line=2'>3</a>\u001b[0m end_date \u001b[39m=\u001b[39m dt\u001b[39m.\u001b[39mdate(\u001b[39m2019\u001b[39m,\u001b[39m8\u001b[39m,\u001b[39m30\u001b[39m) \u001b[39m# กำหนดวันสุดท้ายที่จะดึงข้อมูล\u001b[39;00m\n\u001b[1;32m      <a href='vscode-notebook-cell:/Users/Project/Stock_project/test.ipynb#W1sZmlsZQ%3D%3D?line=3'>4</a>\u001b[0m \u001b[39m#ดึงข้อมูลมาเก็บไว้ในตัวแปร df\u001b[39;00m\n\u001b[0;32m----> <a href='vscode-notebook-cell:/Users/Project/Stock_project/test.ipynb#W1sZmlsZQ%3D%3D?line=4'>5</a>\u001b[0m df \u001b[39m=\u001b[39m web\u001b[39m.\u001b[39mget_data_yahoo(stock_name, start_date, end_date)\n",
      "File \u001b[0;32m~/anaconda3/lib/python3.11/site-packages/pandas_datareader/data.py:80\u001b[0m, in \u001b[0;36mget_data_yahoo\u001b[0;34m(*args, **kwargs)\u001b[0m\n\u001b[1;32m     79\u001b[0m \u001b[39mdef\u001b[39;00m \u001b[39mget_data_yahoo\u001b[39m(\u001b[39m*\u001b[39margs, \u001b[39m*\u001b[39m\u001b[39m*\u001b[39mkwargs):\n\u001b[0;32m---> 80\u001b[0m     \u001b[39mreturn\u001b[39;00m YahooDailyReader(\u001b[39m*\u001b[39margs, \u001b[39m*\u001b[39m\u001b[39m*\u001b[39mkwargs)\u001b[39m.\u001b[39mread()\n",
      "File \u001b[0;32m~/anaconda3/lib/python3.11/site-packages/pandas_datareader/base.py:253\u001b[0m, in \u001b[0;36m_DailyBaseReader.read\u001b[0;34m(self)\u001b[0m\n\u001b[1;32m    251\u001b[0m \u001b[39m# If a single symbol, (e.g., 'GOOG')\u001b[39;00m\n\u001b[1;32m    252\u001b[0m \u001b[39mif\u001b[39;00m \u001b[39misinstance\u001b[39m(\u001b[39mself\u001b[39m\u001b[39m.\u001b[39msymbols, (string_types, \u001b[39mint\u001b[39m)):\n\u001b[0;32m--> 253\u001b[0m     df \u001b[39m=\u001b[39m \u001b[39mself\u001b[39m\u001b[39m.\u001b[39m_read_one_data(\u001b[39mself\u001b[39m\u001b[39m.\u001b[39murl, params\u001b[39m=\u001b[39m\u001b[39mself\u001b[39m\u001b[39m.\u001b[39m_get_params(\u001b[39mself\u001b[39m\u001b[39m.\u001b[39msymbols))\n\u001b[1;32m    254\u001b[0m \u001b[39m# Or multiple symbols, (e.g., ['GOOG', 'AAPL', 'MSFT'])\u001b[39;00m\n\u001b[1;32m    255\u001b[0m \u001b[39melif\u001b[39;00m \u001b[39misinstance\u001b[39m(\u001b[39mself\u001b[39m\u001b[39m.\u001b[39msymbols, DataFrame):\n",
      "File \u001b[0;32m~/anaconda3/lib/python3.11/site-packages/pandas_datareader/yahoo/daily.py:153\u001b[0m, in \u001b[0;36mYahooDailyReader._read_one_data\u001b[0;34m(self, url, params)\u001b[0m\n\u001b[1;32m    151\u001b[0m \u001b[39mtry\u001b[39;00m:\n\u001b[1;32m    152\u001b[0m     j \u001b[39m=\u001b[39m json\u001b[39m.\u001b[39mloads(re\u001b[39m.\u001b[39msearch(ptrn, resp\u001b[39m.\u001b[39mtext, re\u001b[39m.\u001b[39mDOTALL)\u001b[39m.\u001b[39mgroup(\u001b[39m1\u001b[39m))\n\u001b[0;32m--> 153\u001b[0m     data \u001b[39m=\u001b[39m j[\u001b[39m\"\u001b[39m\u001b[39mcontext\u001b[39m\u001b[39m\"\u001b[39m][\u001b[39m\"\u001b[39m\u001b[39mdispatcher\u001b[39m\u001b[39m\"\u001b[39m][\u001b[39m\"\u001b[39m\u001b[39mstores\u001b[39m\u001b[39m\"\u001b[39m][\u001b[39m\"\u001b[39m\u001b[39mHistoricalPriceStore\u001b[39m\u001b[39m\"\u001b[39m]\n\u001b[1;32m    154\u001b[0m \u001b[39mexcept\u001b[39;00m \u001b[39mKeyError\u001b[39;00m:\n\u001b[1;32m    155\u001b[0m     msg \u001b[39m=\u001b[39m \u001b[39m\"\u001b[39m\u001b[39mNo data fetched for symbol \u001b[39m\u001b[39m{}\u001b[39;00m\u001b[39m using \u001b[39m\u001b[39m{}\u001b[39;00m\u001b[39m\"\u001b[39m\n",
      "\u001b[0;31mTypeError\u001b[0m: string indices must be integers, not 'str'"
     ]
    }
   ],
   "source": [
    "stock_name = \"SCB.BK\" # ใส่ชื่อของหุ้นที่เราจะดึงข้อมูล ในที่นี้คือ SCB\n",
    "start_date = dt.date(2016,9,1) # กำหนดวันแรกที่จะดึงข้อมูล\n",
    "end_date = dt.date(2019,8,30) # กำหนดวันสุดท้ายที่จะดึงข้อมูล\n",
    "#ดึงข้อมูลมาเก็บไว้ในตัวแปร df\n",
    "df = web.get_data_yahoo(stock_name, start_date, end_date) \n",
    "#df.to_csv(\"PTT.csv\") # save ข้อมูลหุ้นเก็บไว้เป็นไฟล์ .csv"
   ]
  }
 ],
 "metadata": {
  "kernelspec": {
   "display_name": "Python 3",
   "language": "python",
   "name": "python3"
  },
  "language_info": {
   "codemirror_mode": {
    "name": "ipython",
    "version": 3
   },
   "file_extension": ".py",
   "mimetype": "text/x-python",
   "name": "python",
   "nbconvert_exporter": "python",
   "pygments_lexer": "ipython3",
   "version": "3.11.3"
  }
 },
 "nbformat": 4,
 "nbformat_minor": 2
}
