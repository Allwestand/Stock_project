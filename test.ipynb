{
 "cells": [
  {
   "cell_type": "code",
   "execution_count": 3,
   "metadata": {},
   "outputs": [],
   "source": [
    "import pandas_datareader as web\n",
    "import datetime as dt\n",
    "import pandas as pd\n",
    "import yfinance as yf\n"
   ]
  },
  {
   "cell_type": "code",
   "execution_count": 6,
   "metadata": {},
   "outputs": [],
   "source": [
    "TIPH = yf.Ticker('TIPH.bk')"
   ]
  },
  {
   "cell_type": "code",
   "execution_count": 7,
   "metadata": {},
   "outputs": [],
   "source": [
    "interval = '1d'\n",
    "start = '2020-1-1'\n",
    "end = '2022-11-23'"
   ]
  },
  {
   "cell_type": "code",
   "execution_count": 25,
   "metadata": {},
   "outputs": [],
   "source": [
    "TIPH_price_df = TIPH.history(interval='1d',start=start,end=end)\n",
    "TIPH_price_df.to_csv('TIPH_price.csv')"
   ]
  },
  {
   "cell_type": "code",
   "execution_count": 24,
   "metadata": {},
   "outputs": [],
   "source": [
    "TIPH.balancesheet.to_csv('balance_sheet.csv')"
   ]
  },
  {
   "cell_type": "code",
   "execution_count": 23,
   "metadata": {},
   "outputs": [
    {
     "data": {
      "text/plain": [
       "',2022-12-31,2021-12-31,2020-12-31\\nOrdinary Shares Number,594292336.0,594292336.0,594292336.0\\nShare Issued,594292336.0,594292336.0,594292336.0\\nTotal Debt,848587357.0,84527823.0,97204579.0\\nTangible Book Value,8897294487.0,9532763021.0,8302630151.0\\nInvested Capital,9982499636.0,9582632523.0,8362519163.0\\nNet Tangible Assets,8897294487.0,9532763021.0,8302630151.0\\nCapital Lease Obligations,76587357.0,84527823.0,97204579.0\\nCommon Stock Equity,9210499636.0,9582632523.0,8362519163.0\\nTotal Capitalization,9982499636.0,9582632523.0,8362519163.0\\nTotal Equity Gross Minority Interest,9350967643.0,9674968085.0,8442977931.0\\nMinority Interest,140468007.0,92335562.0,80458768.0\\nStockholders Equity,9210499636.0,9582632523.0,8362519163.0\\nOther Equity Interest,-1878867747.0,-1409048235.0,-397729661.0\\nGains Losses Not Affecting Retained Earnings,1256489752.0,1104415516.0,1002155642.0\\nOther Equity Adjustments,1256489752.0,1104415516.0,1002155642.0\\nRetained Earnings,8343199851.0,8397587462.0,7758083182.0\\nAdditional Paid In Capital,895385444.0,895385444.0,0.0\\nCapital Stock,594292336.0,594292336.0,10000.0\\nCommon Stock,594292336.0,594292336.0,10000.0\\nTotal Liabilities Net Minority Interest,46484154322.0,39964447471.0,36029249807.0\\nEmployee Benefits,484067686.0,512265981.0,489366214.0\\nLong Term Debt And Capital Lease Obligation,815444467.0,84527823.0,97204579.0\\nLong Term Capital Lease Obligation,43444467.0,84527823.0,97204579.0\\nLong Term Debt,772000000.0,,\\nCurrent Debt And Capital Lease Obligation,33142890.0,,\\nCurrent Capital Lease Obligation,33142890.0,,\\nPayables And Accrued Expenses,9738189026.0,8205839927.0,6693209451.0\\nCurrent Accrued Expenses,1270457616.0,1073763397.0,799418968.0\\nPayables,8467731410.0,7132076530.0,5893790483.0\\nOther Payable,6966421.0,4941404.0,5942178.0\\nTotal Tax Payable,59612164.0,0.0,137614182.0\\nIncome Tax Payable,59612164.0,0.0,137614182.0\\nAccounts Payable,8401152825.0,7127135126.0,5750234123.0\\nTotal Assets,55835121965.0,49639415556.0,44472227738.0\\nInvestments And Advances,13470792642.0,14921312685.0,12871292215.0\\nLong Term Equity Investment,304266179.0,0.0,0.0\\nInvestments In Other Ventures Under Equity Method,304266179.0,0.0,0.0\\nGoodwill And Other Intangible Assets,313205149.0,49869502.0,59889012.0\\nOther Intangible Assets,64749770.0,49869502.0,59889012.0\\nGoodwill,248455379.0,,\\nNet PPE,1457511966.0,1470797424.0,1527379496.0\\nPrepaid Assets,15694489879.0,12939753904.0,11427900134.0\\nReceivables,9851164654.0,8980753919.0,6785299313.0\\nReceivables Adjustments Allowances,-906629423.0,,\\nTaxes Receivable,0.0,40841059.0,0.0\\nAccounts Receivable,10757794077.0,8939912860.0,6785299313.0\\nCash Cash Equivalents And Short Term Investments,15383082931.0,14878387900.0,14148671875.0\\nOther Short Term Investments,12204090083.0,12349157915.0,10251901226.0\\nCash And Cash Equivalents,3178992848.0,2529229985.0,3896770649.0\\n'"
      ]
     },
     "execution_count": 23,
     "metadata": {},
     "output_type": "execute_result"
    }
   ],
   "source": [
    "balance_sheet"
   ]
  },
  {
   "cell_type": "code",
   "execution_count": null,
   "metadata": {},
   "outputs": [],
   "source": []
  }
 ],
 "metadata": {
  "kernelspec": {
   "display_name": "Python 3",
   "language": "python",
   "name": "python3"
  },
  "language_info": {
   "codemirror_mode": {
    "name": "ipython",
    "version": 3
   },
   "file_extension": ".py",
   "mimetype": "text/x-python",
   "name": "python",
   "nbconvert_exporter": "python",
   "pygments_lexer": "ipython3",
   "version": "3.11.5"
  }
 },
 "nbformat": 4,
 "nbformat_minor": 2
}
