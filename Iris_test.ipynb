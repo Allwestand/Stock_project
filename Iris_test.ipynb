{
 "cells": [
  {
   "cell_type": "code",
   "execution_count": 7,
   "metadata": {},
   "outputs": [
    {
     "name": "stdout",
     "output_type": "stream",
     "text": [
      "This Python Tutorial is very well suited for Beginners, and also for experienced programmers with other programming languages like C++ and Java. This specially designed free Python tutorial will help you learn Python Programming Language in the most efficient way, with topics from basics to advanced (like Web-scraping, Django, Deep-Learning, etc.) with examples. \n",
      "\n",
      "\n",
      "Python is a high-level, general-purpose, and very popular programming language. Python programming language (latest Python 3) is being used in web development, Machine Learning applications, along with all cutting-edge technology in Software Industry.\n",
      "  Python language is being used by almost all tech-giant companies like – Google, Amazon, Facebook, Instagram, Dropbox, Uber… etc.\n",
      "The biggest strength of Python is huge collection of standard library which can be used for the following:\n",
      "Python is currently the most widely used multi-purpose, high-level programming language, which allows programming in Object-Oriented and Procedural paradigms. Python programs are generally smaller than other programming languages like Java. Programmers have to type relatively less and the indentation requirement of the language, makes them readable all the time.\n",
      "Here are the important topics that come under Python. After completing all the important topics in this free tutorial for Python, you’ll have a basic understanding of the Python programming language:-\n",
      " \n",
      " \n",
      "\n",
      " \n",
      "\n",
      " \n",
      " \n",
      "\n",
      " \n",
      " \n",
      "\n",
      " \n",
      " \n",
      "\n",
      " \n",
      " \n",
      "\n",
      " \n",
      " \n",
      " \n",
      "\n",
      " \n",
      " \n",
      "\n",
      " \n",
      " \n",
      "\n",
      " \n",
      " \n",
      "\n",
      " \n",
      " \n",
      "\n",
      " \n",
      " \n",
      "\n",
      " \n",
      " \n",
      "\n",
      " \n",
      " \n",
      "\n",
      " \n",
      " \n",
      "\n",
      " \n",
      "Also, check\n",
      "To achieve a solid understanding of Python, it’s very important to engage with Python quizzes and MCQs. These quizzes can enhance your ability to solve similar questions and improve your problem-solving skills. \n",
      "Here are some quiz articles related to Python:\n",
      "Python is the most in-demand programming language in 2024, with companies of all sizes hiring for Python programmers to develop websites, software, and applications, as well as to work on data science, AI, and machine learning technologies. There is a high shortage of Python programmers, and those with 3-5 years of experience can command salaries of around $150,000 per year in the United States.\n",
      "Here is a list of companies that are hiring Python programmers:\n",
      "If you are a Python developer, you are in high demand. There are many jobs available in the current IT/Software development market for freshers who know Python well.\n",
      "There are two ways you can execute your Python program. first, we write a program in a file and run it one time. Second, run a code line by line. Here we provided the latest Python 3 version compiler where you can edit and compile your written code directly with just one click of the RUN Button.\n",
      "“Give this Python code a try, and here’s a fun challenge: print ‘Hello World’ along with your name!”\n",
      "There is a wide range of applications that Python can be used for.\n",
      "Here are some of the trending Python applications in 2024:\n",
      "Note: These latest applications are all still under development, but they show the potential of Python for creating new and innovative applications.\n",
      " Readers of this beginner’s Python tutorial are expected to have a reasonable familiarity with programming environments and basic concepts such as variables, commands, and syntax.\n",
      "Python’s reputation for ease of use stems from its clear, English-like syntax, intuitive structure, and emphasis on readability. It prioritizes simplicity and clarity, making it approachable for beginners and experienced programmers alike. \n",
      "Yes, it is possible to learn Python in a month. However, it will depend on how much time you can dedicate to learning the language and how quickly you can grasp new concepts.\n",
      "Well, to become a proficient in Python programming language, it will take around a year. And it will totally depends on your programming skills and understanding. \n",
      "To start Python programming you can follow below steps:\n",
      "\n",
      "Here’s a comprehensive overview of Python’s diverse applications:\n",
      "\n",
      "\n"
     ]
    }
   ],
   "source": [
    "import requests \n",
    "from bs4 import BeautifulSoup \n",
    "  \n",
    "  \n",
    "# Making a GET request \n",
    "r = requests.get('https://www.geeksforgeeks.org/python-programming-language/') \n",
    "  \n",
    "# Parsing the HTML \n",
    "soup = BeautifulSoup(r.content, 'html.parser') \n",
    "  \n",
    "s = soup.find('div', id= 'main') \n",
    "  \n",
    "lines = s.find_all('p')\n",
    "  \n",
    "for line in lines: \n",
    "    print(line.text)"
   ]
  },
  {
   "cell_type": "code",
   "execution_count": 8,
   "metadata": {},
   "outputs": [
    {
     "ename": "ModuleNotFoundError",
     "evalue": "No module named 'streamlit'",
     "output_type": "error",
     "traceback": [
      "\u001b[0;31m---------------------------------------------------------------------------\u001b[0m",
      "\u001b[0;31mModuleNotFoundError\u001b[0m                       Traceback (most recent call last)",
      "Cell \u001b[0;32mIn[8], line 1\u001b[0m\n\u001b[0;32m----> 1\u001b[0m \u001b[38;5;28;01mimport\u001b[39;00m \u001b[38;5;21;01mstreamlit\u001b[39;00m \u001b[38;5;28;01mas\u001b[39;00m \u001b[38;5;21;01mst\u001b[39;00m\n",
      "\u001b[0;31mModuleNotFoundError\u001b[0m: No module named 'streamlit'"
     ]
    }
   ],
   "source": [
    "import streamlit as st "
   ]
  },
  {
   "cell_type": "code",
   "execution_count": null,
   "metadata": {},
   "outputs": [],
   "source": []
  }
 ],
 "metadata": {
  "kernelspec": {
   "display_name": "base",
   "language": "python",
   "name": "python3"
  },
  "language_info": {
   "codemirror_mode": {
    "name": "ipython",
    "version": 3
   },
   "file_extension": ".py",
   "mimetype": "text/x-python",
   "name": "python",
   "nbconvert_exporter": "python",
   "pygments_lexer": "ipython3",
   "version": "3.11.5"
  }
 },
 "nbformat": 4,
 "nbformat_minor": 2
}
